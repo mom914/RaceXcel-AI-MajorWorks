{
 "cells": [
  {
   "cell_type": "markdown",
   "metadata": {},
   "source": [
    "AI model for racing game.\n",
    "\n",
    "code parameters:\n",
    "\n",
    "hard model:\n",
    "    inputs:\n",
    "    - \n",
    "    variables:\n",
    "    - \n",
    "    outputs:\n",
    "    - "
   ]
  },
  {
   "cell_type": "code",
   "execution_count": null,
   "metadata": {
    "vscode": {
     "languageId": "plaintext"
    }
   },
   "outputs": [],
   "source": []
  }
 ],
 "metadata": {
  "language_info": {
   "name": "python"
  }
 },
 "nbformat": 4,
 "nbformat_minor": 2
}
